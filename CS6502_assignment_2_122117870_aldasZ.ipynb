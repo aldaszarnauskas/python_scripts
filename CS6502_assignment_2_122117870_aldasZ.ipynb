{
 "cells": [
  {
   "cell_type": "code",
   "execution_count": 5,
   "id": "4a12f672",
   "metadata": {},
   "outputs": [
    {
     "name": "stdout",
     "output_type": "stream",
     "text": [
      "Even entries in matrix [[1, 3, 2], [2, 1, 5], [8, 1, 3]] are [2, 2, 8]\n"
     ]
    }
   ],
   "source": [
    "#Q1\n",
    "# EvenMatrix return even values from a matrix\n",
    "def EvenMatrix(A,n):\n",
    "    even = []\n",
    "    for row in A:\n",
    "        for value in row:\n",
    "            if value % 2 == 0:\n",
    "                even.append(value)\n",
    "    return print(f'Even entries in matrix {A} are {even}')\n",
    "\n",
    "A = [[1,3,2],[2,1,5],[8,1,3]]\n",
    "EvenMatrix(A,3)"
   ]
  },
  {
   "cell_type": "code",
   "execution_count": 3,
   "id": "5d495ecb",
   "metadata": {},
   "outputs": [
    {
     "name": "stdout",
     "output_type": "stream",
     "text": [
      "[4, 25, 9]\n"
     ]
    }
   ],
   "source": [
    "#Q2\n",
    "# ThirdColumnSquared takes a matrix 3x3 and returns squared values of the third column\n",
    "def ThirdColumnSquared(A,n):\n",
    "    sq_val = []\n",
    "    \n",
    "    count = 0\n",
    "    \n",
    "    for row in A:\n",
    "        for value in row:\n",
    "            count += 1\n",
    "            if count == 3:\n",
    "                sq_val.append(value**2)\n",
    "                count = 0\n",
    "                break\n",
    "    if n < 3:\n",
    "        print(\"Matrix dimension too small. No third column.\")\n",
    "        return A\n",
    "    else:\n",
    "        return print(sq_val)\n",
    "    \n",
    "ThirdColumnSquared([[1, 3, 2], [2, 1, 5], [0, 1, 3]], 3)"
   ]
  },
  {
   "cell_type": "code",
   "execution_count": 23,
   "id": "723a65f9",
   "metadata": {},
   "outputs": [
    {
     "name": "stdout",
     "output_type": "stream",
     "text": [
      "LPCS RABAA length-longest-contiguous-palindrome =  3\n"
     ]
    }
   ],
   "source": [
    "#Q3\n",
    "# LPCS takes a string and returns the value of the longest palindromic sequence within the string.\n",
    "def LPCS(s):\n",
    "    s = s.upper()\n",
    "    n = len(s)\n",
    "    if n == 0:\n",
    "        print(\"The inputted string is empty. Although technically it is palindromic, its length is 0.\")\n",
    "    else:\n",
    "        A = [[[0, 'T']] * n for i in range(n)]\n",
    "\n",
    "        for i in range(n):\n",
    "            A[i][i] = [1, 'T']\n",
    "\n",
    "        for diff in range(1,n):\n",
    "            for i in range(n - diff):\n",
    "                j = i + diff\n",
    "                if s[i] != s[j]:\n",
    "                    max_length_score = max(A[i+1][j][0], A[i][j - 1][0])\n",
    "\n",
    "                    if max_length_score == A[i+1][j][0]:\n",
    "\n",
    "                        A[i][j] = [A[i+1][j][0], \"F\"]\n",
    "\n",
    "                    elif max_length_score == A[i][j - 1][0]:\n",
    "\n",
    "                        A[i][j] = [A[i][j - 1][0], \"F\"]\n",
    "\n",
    "                else:\n",
    "                    if A[i + 1][j -1][-1] == 'T':\n",
    "                        A[i][j] = [A[i + 1][j -1][0] + 2, \"T\"]\n",
    "                    else:\n",
    "                        maxi = max(A[i + 1][j -1][0], A[i][j -1][0], A[i + 1][j][0])\n",
    "                        A[i][j] = [maxi, \"F\"]\n",
    "        return print(f'LPCS {s} length-longest-contiguous-palindrome = ',A[0][n-1][0])\n",
    "    \n",
    "LPCS('RABAA')"
   ]
  }
 ],
 "metadata": {
  "kernelspec": {
   "display_name": "Python 3 (ipykernel)",
   "language": "python",
   "name": "python3"
  },
  "language_info": {
   "codemirror_mode": {
    "name": "ipython",
    "version": 3
   },
   "file_extension": ".py",
   "mimetype": "text/x-python",
   "name": "python",
   "nbconvert_exporter": "python",
   "pygments_lexer": "ipython3",
   "version": "3.12.1"
  }
 },
 "nbformat": 4,
 "nbformat_minor": 5
}
