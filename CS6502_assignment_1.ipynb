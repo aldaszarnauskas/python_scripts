{
 "cells": [
  {
   "cell_type": "code",
   "execution_count": 14,
   "id": "a7ac43b1",
   "metadata": {},
   "outputs": [],
   "source": [
    "#Q1a\n",
    "# zip_rec recursively merges two lists of the same length. \n",
    "# The first values from the two lists are added recursively into a new list until their length is zero.\n",
    "def zip_rec(lis1, lis2):\n",
    "    zipped = []\n",
    "    if len(lis1) == 1 and len(lis2) == 1:\n",
    "        lis1.append(lis2[0])\n",
    "        return lis1\n",
    "    else:\n",
    "        last1 = lis1.pop(-1)\n",
    "        last2 = lis2.pop(-1)\n",
    "        zip_rec(lis1, lis2)\n",
    "        lis1.extend([last1, last2])\n",
    "        return lis1"
   ]
  },
  {
   "cell_type": "code",
   "execution_count": 37,
   "id": "424b6a1e",
   "metadata": {},
   "outputs": [],
   "source": [
    "#Q1b\n",
    "# split_zip takes a list divisible by three, divides it by three into three lists and \n",
    "# returns two of those lists which has the highest maximum value.\n",
    "def split_zip(lis):\n",
    "    n = len(lis)\n",
    "    if n == 1:\n",
    "        return lis\n",
    "    \n",
    "    third = n // 3\n",
    "    lis1 = lis[0:third]\n",
    "    lis2 = lis[third:-third]\n",
    "    lis3 = lis[-third:]\n",
    "    \n",
    "    lis1 = split_zip(lis1)\n",
    "    lis2 = split_zip(lis2)\n",
    "    lis3 = split_zip(lis3)\n",
    "    \n",
    "    lis1_max = max(lis1)\n",
    "    lis2_max = max(lis2)\n",
    "    lis3_max = max(lis3)\n",
    "    \n",
    "\n",
    "    \n",
    "    if lis1_max >= lis2_max or lis1_max >= lis3_max and lis3_max >= lis2_max:\n",
    "        return zip_rec(lis1, lis3)\n",
    "\n",
    "    elif lis1_max >= lis2_max or lis1_max >= lis3_max and lis2_max >= lis3_max:\n",
    "        return zip_rec(lis1, lis2)\n",
    "    \n",
    "    else:\n",
    "        return zip_rec(lis2, lis3)\n"
   ]
  },
  {
   "cell_type": "code",
   "execution_count": 43,
   "id": "b9211994",
   "metadata": {},
   "outputs": [],
   "source": [
    "#Q2\n",
    "# zip_alt merges two lists of the same length using a for loop. \n",
    "# The first values from the two lists are iteratively taken and added into a new list until both list are empty.\n",
    "def zipalt(lis1,lis2):\n",
    "    zipped = []\n",
    "    for i in range(len(lis1)):\n",
    "        zipped.extend([lis1[i], lis2[i]])\n",
    "    return zipped"
   ]
  }
 ],
 "metadata": {
  "kernelspec": {
   "display_name": "Python 3 (ipykernel)",
   "language": "python",
   "name": "python3"
  },
  "language_info": {
   "codemirror_mode": {
    "name": "ipython",
    "version": 3
   },
   "file_extension": ".py",
   "mimetype": "text/x-python",
   "name": "python",
   "nbconvert_exporter": "python",
   "pygments_lexer": "ipython3",
   "version": "3.12.1"
  }
 },
 "nbformat": 4,
 "nbformat_minor": 5
}
